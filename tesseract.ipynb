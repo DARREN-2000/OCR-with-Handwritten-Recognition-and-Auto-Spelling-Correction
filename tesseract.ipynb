{
 "cells": [
  {
   "cell_type": "code",
   "execution_count": 6,
   "metadata": {},
   "outputs": [],
   "source": [
    "import pytesseract\n",
    "pytesseract.pytesseract.tesseract_cmd = r'C:\\Program Files\\Tesseract-OCR\\tesseract.exe'"
   ]
  },
  {
   "cell_type": "code",
   "execution_count": 7,
   "metadata": {},
   "outputs": [
    {
     "ename": "TypeError",
     "evalue": "Unsupported image object",
     "output_type": "error",
     "traceback": [
      "\u001b[1;31m---------------------------------------------------------------------------\u001b[0m",
      "\u001b[1;31mTypeError\u001b[0m                                 Traceback (most recent call last)",
      "\u001b[1;32me:\\GITHUB\\PROGRAMMING\\DATA SCIENCE\\OCR with Auto Correction\\tesseract.ipynb Cell 2'\u001b[0m in \u001b[0;36m<cell line: 9>\u001b[1;34m()\u001b[0m\n\u001b[0;32m      <a href='vscode-notebook-cell:/e%3A/GITHUB/PROGRAMMING/DATA%20SCIENCE/OCR%20with%20Auto%20Correction/tesseract.ipynb#ch0000001?line=6'>7</a>\u001b[0m config \u001b[39m=\u001b[39m (\u001b[39m'\u001b[39m\u001b[39m-l eng --oem 1 --psm 3\u001b[39m\u001b[39m'\u001b[39m)\n\u001b[0;32m      <a href='vscode-notebook-cell:/e%3A/GITHUB/PROGRAMMING/DATA%20SCIENCE/OCR%20with%20Auto%20Correction/tesseract.ipynb#ch0000001?line=7'>8</a>\u001b[0m \u001b[39m# pytessercat\u001b[39;00m\n\u001b[1;32m----> <a href='vscode-notebook-cell:/e%3A/GITHUB/PROGRAMMING/DATA%20SCIENCE/OCR%20with%20Auto%20Correction/tesseract.ipynb#ch0000001?line=8'>9</a>\u001b[0m text \u001b[39m=\u001b[39m pytesseract\u001b[39m.\u001b[39;49mimage_to_string(im, config\u001b[39m=\u001b[39;49mconfig)\n\u001b[0;32m     <a href='vscode-notebook-cell:/e%3A/GITHUB/PROGRAMMING/DATA%20SCIENCE/OCR%20with%20Auto%20Correction/tesseract.ipynb#ch0000001?line=9'>10</a>\u001b[0m \u001b[39m# print text\u001b[39;00m\n\u001b[0;32m     <a href='vscode-notebook-cell:/e%3A/GITHUB/PROGRAMMING/DATA%20SCIENCE/OCR%20with%20Auto%20Correction/tesseract.ipynb#ch0000001?line=10'>11</a>\u001b[0m text \u001b[39m=\u001b[39m text\u001b[39m.\u001b[39msplit(\u001b[39m'\u001b[39m\u001b[39m\\n\u001b[39;00m\u001b[39m'\u001b[39m)\n",
      "File \u001b[1;32mc:\\Users\\DARREN\\AppData\\Local\\Programs\\Python\\Python310\\lib\\site-packages\\pytesseract\\pytesseract.py:416\u001b[0m, in \u001b[0;36mimage_to_string\u001b[1;34m(image, lang, config, nice, output_type, timeout)\u001b[0m\n\u001b[0;32m    <a href='file:///c%3A/Users/DARREN/AppData/Local/Programs/Python/Python310/lib/site-packages/pytesseract/pytesseract.py?line=410'>411</a>\u001b[0m \u001b[39m\"\"\"\u001b[39;00m\n\u001b[0;32m    <a href='file:///c%3A/Users/DARREN/AppData/Local/Programs/Python/Python310/lib/site-packages/pytesseract/pytesseract.py?line=411'>412</a>\u001b[0m \u001b[39mReturns the result of a Tesseract OCR run on the provided image to string\u001b[39;00m\n\u001b[0;32m    <a href='file:///c%3A/Users/DARREN/AppData/Local/Programs/Python/Python310/lib/site-packages/pytesseract/pytesseract.py?line=412'>413</a>\u001b[0m \u001b[39m\"\"\"\u001b[39;00m\n\u001b[0;32m    <a href='file:///c%3A/Users/DARREN/AppData/Local/Programs/Python/Python310/lib/site-packages/pytesseract/pytesseract.py?line=413'>414</a>\u001b[0m args \u001b[39m=\u001b[39m [image, \u001b[39m'\u001b[39m\u001b[39mtxt\u001b[39m\u001b[39m'\u001b[39m, lang, config, nice, timeout]\n\u001b[1;32m--> <a href='file:///c%3A/Users/DARREN/AppData/Local/Programs/Python/Python310/lib/site-packages/pytesseract/pytesseract.py?line=415'>416</a>\u001b[0m \u001b[39mreturn\u001b[39;00m {\n\u001b[0;32m    <a href='file:///c%3A/Users/DARREN/AppData/Local/Programs/Python/Python310/lib/site-packages/pytesseract/pytesseract.py?line=416'>417</a>\u001b[0m     Output\u001b[39m.\u001b[39;49mBYTES: \u001b[39mlambda\u001b[39;49;00m: run_and_get_output(\u001b[39m*\u001b[39;49m(args \u001b[39m+\u001b[39;49m [\u001b[39mTrue\u001b[39;49;00m])),\n\u001b[0;32m    <a href='file:///c%3A/Users/DARREN/AppData/Local/Programs/Python/Python310/lib/site-packages/pytesseract/pytesseract.py?line=417'>418</a>\u001b[0m     Output\u001b[39m.\u001b[39;49mDICT: \u001b[39mlambda\u001b[39;49;00m: {\u001b[39m'\u001b[39;49m\u001b[39mtext\u001b[39;49m\u001b[39m'\u001b[39;49m: run_and_get_output(\u001b[39m*\u001b[39;49margs)},\n\u001b[0;32m    <a href='file:///c%3A/Users/DARREN/AppData/Local/Programs/Python/Python310/lib/site-packages/pytesseract/pytesseract.py?line=418'>419</a>\u001b[0m     Output\u001b[39m.\u001b[39;49mSTRING: \u001b[39mlambda\u001b[39;49;00m: run_and_get_output(\u001b[39m*\u001b[39;49margs),\n\u001b[0;32m    <a href='file:///c%3A/Users/DARREN/AppData/Local/Programs/Python/Python310/lib/site-packages/pytesseract/pytesseract.py?line=419'>420</a>\u001b[0m }[output_type]()\n",
      "File \u001b[1;32mc:\\Users\\DARREN\\AppData\\Local\\Programs\\Python\\Python310\\lib\\site-packages\\pytesseract\\pytesseract.py:419\u001b[0m, in \u001b[0;36mimage_to_string.<locals>.<lambda>\u001b[1;34m()\u001b[0m\n\u001b[0;32m    <a href='file:///c%3A/Users/DARREN/AppData/Local/Programs/Python/Python310/lib/site-packages/pytesseract/pytesseract.py?line=410'>411</a>\u001b[0m \u001b[39m\"\"\"\u001b[39;00m\n\u001b[0;32m    <a href='file:///c%3A/Users/DARREN/AppData/Local/Programs/Python/Python310/lib/site-packages/pytesseract/pytesseract.py?line=411'>412</a>\u001b[0m \u001b[39mReturns the result of a Tesseract OCR run on the provided image to string\u001b[39;00m\n\u001b[0;32m    <a href='file:///c%3A/Users/DARREN/AppData/Local/Programs/Python/Python310/lib/site-packages/pytesseract/pytesseract.py?line=412'>413</a>\u001b[0m \u001b[39m\"\"\"\u001b[39;00m\n\u001b[0;32m    <a href='file:///c%3A/Users/DARREN/AppData/Local/Programs/Python/Python310/lib/site-packages/pytesseract/pytesseract.py?line=413'>414</a>\u001b[0m args \u001b[39m=\u001b[39m [image, \u001b[39m'\u001b[39m\u001b[39mtxt\u001b[39m\u001b[39m'\u001b[39m, lang, config, nice, timeout]\n\u001b[0;32m    <a href='file:///c%3A/Users/DARREN/AppData/Local/Programs/Python/Python310/lib/site-packages/pytesseract/pytesseract.py?line=415'>416</a>\u001b[0m \u001b[39mreturn\u001b[39;00m {\n\u001b[0;32m    <a href='file:///c%3A/Users/DARREN/AppData/Local/Programs/Python/Python310/lib/site-packages/pytesseract/pytesseract.py?line=416'>417</a>\u001b[0m     Output\u001b[39m.\u001b[39mBYTES: \u001b[39mlambda\u001b[39;00m: run_and_get_output(\u001b[39m*\u001b[39m(args \u001b[39m+\u001b[39m [\u001b[39mTrue\u001b[39;00m])),\n\u001b[0;32m    <a href='file:///c%3A/Users/DARREN/AppData/Local/Programs/Python/Python310/lib/site-packages/pytesseract/pytesseract.py?line=417'>418</a>\u001b[0m     Output\u001b[39m.\u001b[39mDICT: \u001b[39mlambda\u001b[39;00m: {\u001b[39m'\u001b[39m\u001b[39mtext\u001b[39m\u001b[39m'\u001b[39m: run_and_get_output(\u001b[39m*\u001b[39margs)},\n\u001b[1;32m--> <a href='file:///c%3A/Users/DARREN/AppData/Local/Programs/Python/Python310/lib/site-packages/pytesseract/pytesseract.py?line=418'>419</a>\u001b[0m     Output\u001b[39m.\u001b[39mSTRING: \u001b[39mlambda\u001b[39;00m: run_and_get_output(\u001b[39m*\u001b[39;49margs),\n\u001b[0;32m    <a href='file:///c%3A/Users/DARREN/AppData/Local/Programs/Python/Python310/lib/site-packages/pytesseract/pytesseract.py?line=419'>420</a>\u001b[0m }[output_type]()\n",
      "File \u001b[1;32mc:\\Users\\DARREN\\AppData\\Local\\Programs\\Python\\Python310\\lib\\site-packages\\pytesseract\\pytesseract.py:275\u001b[0m, in \u001b[0;36mrun_and_get_output\u001b[1;34m(image, extension, lang, config, nice, timeout, return_bytes)\u001b[0m\n\u001b[0;32m    <a href='file:///c%3A/Users/DARREN/AppData/Local/Programs/Python/Python310/lib/site-packages/pytesseract/pytesseract.py?line=264'>265</a>\u001b[0m \u001b[39mdef\u001b[39;00m \u001b[39mrun_and_get_output\u001b[39m(\n\u001b[0;32m    <a href='file:///c%3A/Users/DARREN/AppData/Local/Programs/Python/Python310/lib/site-packages/pytesseract/pytesseract.py?line=265'>266</a>\u001b[0m     image,\n\u001b[0;32m    <a href='file:///c%3A/Users/DARREN/AppData/Local/Programs/Python/Python310/lib/site-packages/pytesseract/pytesseract.py?line=266'>267</a>\u001b[0m     extension\u001b[39m=\u001b[39m\u001b[39m'\u001b[39m\u001b[39m'\u001b[39m,\n\u001b[1;32m   (...)\u001b[0m\n\u001b[0;32m    <a href='file:///c%3A/Users/DARREN/AppData/Local/Programs/Python/Python310/lib/site-packages/pytesseract/pytesseract.py?line=271'>272</a>\u001b[0m     return_bytes\u001b[39m=\u001b[39m\u001b[39mFalse\u001b[39;00m,\n\u001b[0;32m    <a href='file:///c%3A/Users/DARREN/AppData/Local/Programs/Python/Python310/lib/site-packages/pytesseract/pytesseract.py?line=272'>273</a>\u001b[0m ):\n\u001b[1;32m--> <a href='file:///c%3A/Users/DARREN/AppData/Local/Programs/Python/Python310/lib/site-packages/pytesseract/pytesseract.py?line=274'>275</a>\u001b[0m     \u001b[39mwith\u001b[39;00m save(image) \u001b[39mas\u001b[39;00m (temp_name, input_filename):\n\u001b[0;32m    <a href='file:///c%3A/Users/DARREN/AppData/Local/Programs/Python/Python310/lib/site-packages/pytesseract/pytesseract.py?line=275'>276</a>\u001b[0m         kwargs \u001b[39m=\u001b[39m {\n\u001b[0;32m    <a href='file:///c%3A/Users/DARREN/AppData/Local/Programs/Python/Python310/lib/site-packages/pytesseract/pytesseract.py?line=276'>277</a>\u001b[0m             \u001b[39m'\u001b[39m\u001b[39minput_filename\u001b[39m\u001b[39m'\u001b[39m: input_filename,\n\u001b[0;32m    <a href='file:///c%3A/Users/DARREN/AppData/Local/Programs/Python/Python310/lib/site-packages/pytesseract/pytesseract.py?line=277'>278</a>\u001b[0m             \u001b[39m'\u001b[39m\u001b[39moutput_filename_base\u001b[39m\u001b[39m'\u001b[39m: temp_name,\n\u001b[1;32m   (...)\u001b[0m\n\u001b[0;32m    <a href='file:///c%3A/Users/DARREN/AppData/Local/Programs/Python/Python310/lib/site-packages/pytesseract/pytesseract.py?line=282'>283</a>\u001b[0m             \u001b[39m'\u001b[39m\u001b[39mtimeout\u001b[39m\u001b[39m'\u001b[39m: timeout,\n\u001b[0;32m    <a href='file:///c%3A/Users/DARREN/AppData/Local/Programs/Python/Python310/lib/site-packages/pytesseract/pytesseract.py?line=283'>284</a>\u001b[0m         }\n\u001b[0;32m    <a href='file:///c%3A/Users/DARREN/AppData/Local/Programs/Python/Python310/lib/site-packages/pytesseract/pytesseract.py?line=285'>286</a>\u001b[0m         run_tesseract(\u001b[39m*\u001b[39m\u001b[39m*\u001b[39mkwargs)\n",
      "File \u001b[1;32mc:\\Users\\DARREN\\AppData\\Local\\Programs\\Python\\Python310\\lib\\contextlib.py:135\u001b[0m, in \u001b[0;36m_GeneratorContextManager.__enter__\u001b[1;34m(self)\u001b[0m\n\u001b[0;32m    <a href='file:///c%3A/Users/DARREN/AppData/Local/Programs/Python/Python310/lib/contextlib.py?line=132'>133</a>\u001b[0m \u001b[39mdel\u001b[39;00m \u001b[39mself\u001b[39m\u001b[39m.\u001b[39margs, \u001b[39mself\u001b[39m\u001b[39m.\u001b[39mkwds, \u001b[39mself\u001b[39m\u001b[39m.\u001b[39mfunc\n\u001b[0;32m    <a href='file:///c%3A/Users/DARREN/AppData/Local/Programs/Python/Python310/lib/contextlib.py?line=133'>134</a>\u001b[0m \u001b[39mtry\u001b[39;00m:\n\u001b[1;32m--> <a href='file:///c%3A/Users/DARREN/AppData/Local/Programs/Python/Python310/lib/contextlib.py?line=134'>135</a>\u001b[0m     \u001b[39mreturn\u001b[39;00m \u001b[39mnext\u001b[39;49m(\u001b[39mself\u001b[39;49m\u001b[39m.\u001b[39;49mgen)\n\u001b[0;32m    <a href='file:///c%3A/Users/DARREN/AppData/Local/Programs/Python/Python310/lib/contextlib.py?line=135'>136</a>\u001b[0m \u001b[39mexcept\u001b[39;00m \u001b[39mStopIteration\u001b[39;00m:\n\u001b[0;32m    <a href='file:///c%3A/Users/DARREN/AppData/Local/Programs/Python/Python310/lib/contextlib.py?line=136'>137</a>\u001b[0m     \u001b[39mraise\u001b[39;00m \u001b[39mRuntimeError\u001b[39;00m(\u001b[39m\"\u001b[39m\u001b[39mgenerator didn\u001b[39m\u001b[39m'\u001b[39m\u001b[39mt yield\u001b[39m\u001b[39m\"\u001b[39m) \u001b[39mfrom\u001b[39;00m \u001b[39mNone\u001b[39m\n",
      "File \u001b[1;32mc:\\Users\\DARREN\\AppData\\Local\\Programs\\Python\\Python310\\lib\\site-packages\\pytesseract\\pytesseract.py:196\u001b[0m, in \u001b[0;36msave\u001b[1;34m(image)\u001b[0m\n\u001b[0;32m    <a href='file:///c%3A/Users/DARREN/AppData/Local/Programs/Python/Python310/lib/site-packages/pytesseract/pytesseract.py?line=193'>194</a>\u001b[0m     \u001b[39myield\u001b[39;00m f\u001b[39m.\u001b[39mname, realpath(normpath(normcase(image)))\n\u001b[0;32m    <a href='file:///c%3A/Users/DARREN/AppData/Local/Programs/Python/Python310/lib/site-packages/pytesseract/pytesseract.py?line=194'>195</a>\u001b[0m     \u001b[39mreturn\u001b[39;00m\n\u001b[1;32m--> <a href='file:///c%3A/Users/DARREN/AppData/Local/Programs/Python/Python310/lib/site-packages/pytesseract/pytesseract.py?line=195'>196</a>\u001b[0m image, extension \u001b[39m=\u001b[39m prepare(image)\n\u001b[0;32m    <a href='file:///c%3A/Users/DARREN/AppData/Local/Programs/Python/Python310/lib/site-packages/pytesseract/pytesseract.py?line=196'>197</a>\u001b[0m input_file_name \u001b[39m=\u001b[39m f\u001b[39m.\u001b[39mname \u001b[39m+\u001b[39m extsep \u001b[39m+\u001b[39m extension\n\u001b[0;32m    <a href='file:///c%3A/Users/DARREN/AppData/Local/Programs/Python/Python310/lib/site-packages/pytesseract/pytesseract.py?line=197'>198</a>\u001b[0m image\u001b[39m.\u001b[39msave(input_file_name, \u001b[39mformat\u001b[39m\u001b[39m=\u001b[39mimage\u001b[39m.\u001b[39mformat)\n",
      "File \u001b[1;32mc:\\Users\\DARREN\\AppData\\Local\\Programs\\Python\\Python310\\lib\\site-packages\\pytesseract\\pytesseract.py:173\u001b[0m, in \u001b[0;36mprepare\u001b[1;34m(image)\u001b[0m\n\u001b[0;32m    <a href='file:///c%3A/Users/DARREN/AppData/Local/Programs/Python/Python310/lib/site-packages/pytesseract/pytesseract.py?line=169'>170</a>\u001b[0m     image \u001b[39m=\u001b[39m Image\u001b[39m.\u001b[39mfromarray(image)\n\u001b[0;32m    <a href='file:///c%3A/Users/DARREN/AppData/Local/Programs/Python/Python310/lib/site-packages/pytesseract/pytesseract.py?line=171'>172</a>\u001b[0m \u001b[39mif\u001b[39;00m \u001b[39mnot\u001b[39;00m \u001b[39misinstance\u001b[39m(image, Image\u001b[39m.\u001b[39mImage):\n\u001b[1;32m--> <a href='file:///c%3A/Users/DARREN/AppData/Local/Programs/Python/Python310/lib/site-packages/pytesseract/pytesseract.py?line=172'>173</a>\u001b[0m     \u001b[39mraise\u001b[39;00m \u001b[39mTypeError\u001b[39;00m(\u001b[39m'\u001b[39m\u001b[39mUnsupported image object\u001b[39m\u001b[39m'\u001b[39m)\n\u001b[0;32m    <a href='file:///c%3A/Users/DARREN/AppData/Local/Programs/Python/Python310/lib/site-packages/pytesseract/pytesseract.py?line=174'>175</a>\u001b[0m extension \u001b[39m=\u001b[39m \u001b[39m'\u001b[39m\u001b[39mPNG\u001b[39m\u001b[39m'\u001b[39m \u001b[39mif\u001b[39;00m \u001b[39mnot\u001b[39;00m image\u001b[39m.\u001b[39mformat \u001b[39melse\u001b[39;00m image\u001b[39m.\u001b[39mformat\n\u001b[0;32m    <a href='file:///c%3A/Users/DARREN/AppData/Local/Programs/Python/Python310/lib/site-packages/pytesseract/pytesseract.py?line=175'>176</a>\u001b[0m \u001b[39mif\u001b[39;00m extension \u001b[39mnot\u001b[39;00m \u001b[39min\u001b[39;00m SUPPORTED_FORMATS:\n",
      "\u001b[1;31mTypeError\u001b[0m: Unsupported image object"
     ]
    }
   ],
   "source": [
    "# text recognition\n",
    "import cv2\n",
    "\n",
    "# read image\n",
    "im = cv2.imread('./.image3.png')\n",
    "# configurations\n",
    "config = ('-l eng --oem 1 --psm 3')\n",
    "# pytessercat\n",
    "text = pytesseract.image_to_string(im, config=config)\n",
    "# print text\n",
    "text = text.split('\\n')\n",
    "text"
   ]
  },
  {
   "cell_type": "code",
   "execution_count": 14,
   "metadata": {},
   "outputs": [],
   "source": [
    "# preprocessing\n",
    "# gray scale\n",
    "def gray(img):\n",
    "    \n",
    "    img = cv2.cvtColor(img, cv2.COLOR_BGR2GRAY)\n",
    "    cv2.imwrite(r\"./preprocess/img_gray.png\",img)\n",
    "    return img\n",
    "\n",
    "# blur\n",
    "def blur(img) :\n",
    "    img_blur = cv2.GaussianBlur(img,(5,5),0)\n",
    "    cv2.imwrite(r\"./preprocess/img_blur.png\",img)    \n",
    "    return img_blur\n",
    "\n",
    "# threshold\n",
    "def threshold(img):\n",
    "    #pixels with value below 100 are turned black (0) and those with higher value are turned white (255)\n",
    "    img = cv2.threshold(img, 100, 255, cv2.THRESH_OTSU | cv2.THRESH_BINARY)[1]    \n",
    "    cv2.imwrite(r\"./preprocess/img_threshold.png\",img)\n",
    "    return img"
   ]
  },
  {
   "cell_type": "code",
   "execution_count": 15,
   "metadata": {},
   "outputs": [],
   "source": [
    "# Finding contours \n",
    "im_gray = gray(im)\n",
    "im_blur = blur(im_gray)\n",
    "im_thresh = threshold(im_blur)\n",
    "\n",
    "contours, _ = cv2.findContours(im_thresh, cv2.RETR_EXTERNAL, cv2.CHAIN_APPROX_NONE) "
   ]
  },
  {
   "cell_type": "code",
   "execution_count": null,
   "metadata": {},
   "outputs": [],
   "source": [
    "# text detection\n",
    "def contours_text(orig, img, contours):\n",
    "    for cnt in contours: \n",
    "        x, y, w, h = cv2.boundingRect(cnt) \n",
    "\n",
    "        # Drawing a rectangle on copied image \n",
    "        rect = cv2.rectangle(orig, (x, y), (x + w, y + h), (0, 255, 255), 2) \n",
    "        \n",
    "        cv2.imshow('cnt',rect)\n",
    "        cv2.waitKey()\n",
    "\n",
    "        # Cropping the text block for giving input to OCR \n",
    "        cropped = orig[y:y + h, x:x + w] \n",
    "\n",
    "        # Apply OCR on the cropped image \n",
    "        config = ('-l eng --oem 1 --psm 3')\n",
    "        text = pytesseract.image_to_string(cropped, config=config) \n",
    "\n",
    "        print(text)"
   ]
  }
 ],
 "metadata": {
  "interpreter": {
   "hash": "6bb9f89b7bc3a1f21dfa6a81ae2beb6db18058009808ef5e4736e730d402581f"
  },
  "kernelspec": {
   "display_name": "Python 3.10.4 64-bit",
   "language": "python",
   "name": "python3"
  },
  "language_info": {
   "codemirror_mode": {
    "name": "ipython",
    "version": 3
   },
   "file_extension": ".py",
   "mimetype": "text/x-python",
   "name": "python",
   "nbconvert_exporter": "python",
   "pygments_lexer": "ipython3",
   "version": "3.10.4"
  },
  "orig_nbformat": 4
 },
 "nbformat": 4,
 "nbformat_minor": 2
}
